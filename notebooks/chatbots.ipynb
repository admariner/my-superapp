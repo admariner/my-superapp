{
 "cells": [
  {
   "cell_type": "code",
   "execution_count": 1,
   "metadata": {},
   "outputs": [
    {
     "name": "stdout",
     "output_type": "stream",
     "text": [
      "/Users/DANIEL/my-app\n"
     ]
    }
   ],
   "source": [
    "%load_ext autoreload\n",
    "%autoreload 2\n",
    "%cd .."
   ]
  },
  {
   "cell_type": "code",
   "execution_count": 2,
   "metadata": {},
   "outputs": [
    {
     "name": "stderr",
     "output_type": "stream",
     "text": [
      "2023-11-30 17:32:48.445 WARNING streamlit.runtime.caching.cache_data_api: No runtime found, using MemoryCacheStorageManager\n",
      "2023-11-30 17:32:48.446 WARNING streamlit.runtime.caching.cache_data_api: No runtime found, using MemoryCacheStorageManager\n",
      "2023-11-30 17:32:48,449 - /utils/secrets.py - INFO - Setting OPENAI_API_KEY=sk-H***********************************************\n",
      "2023-11-30 17:32:48,450 - /utils/secrets.py - INFO - Setting TOGETHER_API_KEY=cc28************************************************************\n",
      "2023-11-30 17:32:48,450 - /utils/secrets.py - INFO - Setting LAKERA_GUARD_API_KEY=c436************************************************************\n",
      "2023-11-30 17:32:48,450 - /utils/secrets.py - INFO - Setting GOOGLE_API_KEY=AIza***********************************\n",
      "2023-11-30 17:32:48,450 - /utils/secrets.py - INFO - Setting GOOGLE_CSE_ID=d02a*************\n"
     ]
    }
   ],
   "source": [
    "from utils.secrets import load_secrets\n",
    "\n",
    "load_secrets()"
   ]
  },
  {
   "cell_type": "code",
   "execution_count": 3,
   "metadata": {},
   "outputs": [],
   "source": [
    "from src.generative_ai.large_language_models import Chatbot, ChatbotRAG, ChatbotTools"
   ]
  },
  {
   "cell_type": "code",
   "execution_count": null,
   "metadata": {},
   "outputs": [],
   "source": [
    "chatbot = Chatbot()\n",
    "chatbot.ask(query=\"what is the goal of life?\", context=\"Talk to me like a child\", language=\"French\")"
   ]
  },
  {
   "cell_type": "code",
   "execution_count": null,
   "metadata": {},
   "outputs": [],
   "source": [
    "chatbot = ChatbotRAG()\n",
    "chatbot.ask(query=\"what is attention?\", language=\"French\")"
   ]
  },
  {
   "cell_type": "code",
   "execution_count": null,
   "metadata": {},
   "outputs": [],
   "source": [
    "chatbot = ChatbotTools(tool_names=[\"google-search\"])\n",
    "chatbot.ask(query=\"what happened in november 2023?\", language=\"French\")"
   ]
  },
  {
   "cell_type": "code",
   "execution_count": null,
   "metadata": {},
   "outputs": [],
   "source": []
  }
 ],
 "metadata": {
  "kernelspec": {
   "display_name": "chat-o-sophy-udGYv1To-py3.11",
   "language": "python",
   "name": "python3"
  },
  "language_info": {
   "codemirror_mode": {
    "name": "ipython",
    "version": 3
   },
   "file_extension": ".py",
   "mimetype": "text/x-python",
   "name": "python",
   "nbconvert_exporter": "python",
   "pygments_lexer": "ipython3",
   "version": "3.11.3"
  }
 },
 "nbformat": 4,
 "nbformat_minor": 2
}
